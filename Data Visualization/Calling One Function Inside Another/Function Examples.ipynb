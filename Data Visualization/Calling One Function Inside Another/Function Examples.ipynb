{
 "cells": [
  {
   "cell_type": "code",
   "execution_count": 2,
   "metadata": {},
   "outputs": [],
   "source": [
    "def multiply_five(n):\n",
    "    return n*5\n",
    "\n",
    "def add_ten(x):\n",
    "    return x+10\n",
    "\n",
    "def divide_by_two(c):\n",
    "    return c+10    \n"
   ]
  },
  {
   "cell_type": "code",
   "execution_count": 3,
   "metadata": {},
   "outputs": [],
   "source": [
    "def add_multiply(x, n):\n",
    "   multiply_five(n)\n",
    "   add_ten(x)\n",
    "   return x+n "
   ]
  },
  {
   "cell_type": "code",
   "execution_count": 4,
   "metadata": {},
   "outputs": [],
   "source": [
    "def calculation(x, n, c):\n",
    "    return multiply_five(n) + add_ten(x) + divide_by_two(c)"
   ]
  },
  {
   "cell_type": "code",
   "execution_count": 5,
   "metadata": {},
   "outputs": [
    {
     "data": {
      "text/plain": [
       "34"
      ]
     },
     "execution_count": 5,
     "metadata": {},
     "output_type": "execute_result"
    }
   ],
   "source": [
    "def your_name(name):\n",
    "    print('Good morning,',name)\n",
    "\n",
    "def today(day):\n",
    "    print('Today is', day)\n",
    "    \n",
    "def name_day(name, day):\n",
    "    a = your_name(name)\n",
    "    b = today(day)\n",
    "    return a\n",
    "    return b"
   ]
  },
  {
   "cell_type": "code",
   "execution_count": null,
   "metadata": {},
   "outputs": [],
   "source": []
  }
 ],
 "metadata": {
  "kernelspec": {
   "display_name": "base",
   "language": "python",
   "name": "python3"
  },
  "language_info": {
   "codemirror_mode": {
    "name": "ipython",
    "version": 3
   },
   "file_extension": ".py",
   "mimetype": "text/x-python",
   "name": "python",
   "nbconvert_exporter": "python",
   "pygments_lexer": "ipython3",
   "version": "3.9.13"
  },
  "orig_nbformat": 4,
  "vscode": {
   "interpreter": {
    "hash": "585a938ec471c889bf0cce0aed741a99eaf47ca09c0fa8393793bc5bfe77ba11"
   }
  }
 },
 "nbformat": 4,
 "nbformat_minor": 2
}
