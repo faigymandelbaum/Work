{
 "cells": [
  {
   "attachments": {},
   "cell_type": "markdown",
   "metadata": {},
   "source": [
    "## Worlds Best Employers"
   ]
  },
  {
   "attachments": {},
   "cell_type": "markdown",
   "metadata": {},
   "source": [
    "### Faigy Mandelbaum\n",
    "1/18/2023"
   ]
  },
  {
   "attachments": {},
   "cell_type": "markdown",
   "metadata": {},
   "source": [
    "My goals for this project are the following:\n",
    "- Write efficient code to help users access the data easily.\n",
    "- Save time and space while running the code.\n",
    "\n",
    "Specific goals for the \"Worlds Best Employers\" dataset:\n",
    "- Give the user information about employers in each country in an optimized way.\n",
    "- Organize the different industries.\n",
    "- Look up the ranks for the companies in the quickest way."
   ]
  },
  {
   "cell_type": "code",
   "execution_count": 18,
   "metadata": {},
   "outputs": [],
   "source": [
    "# Reading in the csv as a list of lists\n",
    "import csv\n",
    "import pandas as pd\n",
    "with open (\"Worlds Best Employers.csv\", encoding = 'UTF-8') as f:\n",
    "    reader = csv.reader(f)\n",
    "    rows = list(reader)\n",
    "header = rows[0]\n",
    "rows = rows[1:]\n"
   ]
  },
  {
   "cell_type": "code",
   "execution_count": 19,
   "metadata": {},
   "outputs": [
    {
     "name": "stdout",
     "output_type": "stream",
     "text": [
      "['RANK', 'NAME', 'INDUSTRIES', 'COUNTRY/TERRITORY', 'EMPLOYEES']\n"
     ]
    }
   ],
   "source": [
    "print (header)"
   ]
  },
  {
   "cell_type": "code",
   "execution_count": 20,
   "metadata": {},
   "outputs": [
    {
     "name": "stdout",
     "output_type": "stream",
     "text": [
      "[['1.', 'Samsung Electronics', 'Semiconductors, Electronics, Electrical Engineering, Technology Hardware & Equipment', 'South Kore', '266,673'], ['2.', 'Microsoft', 'IT, Internet, Software & Services', 'United States', '221,000'], ['3.', 'IBM', 'Semiconductors, Electronics, Electrical Engineering, Technology Hardware & Equipment', 'United States', '250,000']]\n"
     ]
    }
   ],
   "source": [
    "print (rows[:3])"
   ]
  },
  {
   "cell_type": "code",
   "execution_count": 21,
   "metadata": {},
   "outputs": [],
   "source": [
    "# Creating a dictionary with the country as a key and the rest of the information as values\n",
    "employees_by_country = {}\n",
    "for row in rows:\n",
    "    if row[3] in employees_by_country:\n",
    "        employees_by_country[row[3]] += [row[:3] + row[4:]]\n",
    "    else:\n",
    "        employees_by_country[row[3]] = [row[:3] + row[4:]]\n"
   ]
  },
  {
   "cell_type": "code",
   "execution_count": 22,
   "metadata": {},
   "outputs": [
    {
     "name": "stdout",
     "output_type": "stream",
     "text": [
      "[['2.', 'Microsoft', 'IT, Internet, Software & Services', '221,000'], ['3.', 'IBM', 'Semiconductors, Electronics, Electrical Engineering, Technology Hardware & Equipment', '250,000'], ['4.', 'Alphabet', 'IT, Internet, Software & Services', '156,500'], ['5.', 'Apple', 'Semiconductors, Electronics, Electrical Engineering, Technology Hardware & Equipment', '154,000'], ['6.', 'Delta Air Lines', 'Transportation and Logistics', '80,000'], ['7.', 'Costco Wholesale', 'Retail and Wholesale', '288,000'], ['8.', 'Adobe', 'IT, Internet, Software & Services', '25,988'], ['9.', 'Southwest Airlines', 'Transportation and Logistics', '55,093'], ['10.', 'Dell Technologies', 'Semiconductors, Electronics, Electrical Engineering, Technology Hardware & Equipment', '133,000'], ['11.', 'Lockheed Martin', 'Aerospace & Defense', '114,000'], ['12.', 'Cisco Systems', 'Semiconductors, Electronics, Electrical Engineering, Technology Hardware & Equipment', '79,500'], ['14.', 'Amazon', 'IT, Internet, Software & Services', '1,608,000'], ['27.', 'Intuit', 'IT, Internet, Software & Services', '14,200'], ['29.', 'Pfizer', 'Drugs & Biotechnology', '79,000'], ['32.', 'Coca-Cola', 'Food, Soft Beverages, Alcohol & Tobacco', '79,000'], ['35.', '3M', 'Conglomerate', '95,000'], ['37.', 'Nike', 'Clothing, Shoes, Sports Equipment', '73,300'], ['40.', 'UKG', 'IT, Internet, Software & Services', '15,000'], ['42.', 'Marriott International', 'Travel & Leisure      ', '120,000'], ['43.', 'Northrop Grumman', 'Aerospace & Defense', '90,000'], ['45.', 'PayPal', 'Banking and Financial Services', '30,900'], ['50.', 'Johnson & Johnson', 'Drugs & Biotechnology', '130,000'], ['51.', 'Target', 'Retail and Wholesale', '450,000'], ['52.', 'The Home Depot', 'Retail and Wholesale', '30,000'], ['53.', 'Hyatt Hotels', 'Travel & Leisure      ', '164,000'], ['54.', 'Boeing', 'Aerospace & Defense', '142,000'], ['55.', 'Ford Motor', 'Automotive (Automotive and Suppliers)', '26,000'], ['57.', 'Colgate-Palmolive', 'Packaged Goods', '33,800'], ['58.', 'General Dynamics', 'Aerospace & Defense', '100,000'], ['62.', 'Raymond James Financial', 'Banking and Financial Services', '15,000'], ['64.', 'Capital One', 'Banking and Financial Services', '52,781'], ['66.', 'Oracle', 'IT, Internet, Software & Services', '133,000'], ['67.', 'Netflix', 'Media & Advertising', '11,300'], ['73.', 'General Motors', 'Automotive (Automotive and Suppliers)', '157,000'], ['74.', 'T Rowe Price', 'Banking and Financial Services', '7,529'], ['77.', 'Intel', 'IT, Internet, Software & Services', '121,100'], ['78.', 'Viatris', 'Drugs & Biotechnology', '37,000'], ['87.', 'Discover Financial Services', 'Banking and Financial Services', '16,700'], ['92.', 'The Hartford', 'Banking and Financial Services', '18,100'], ['96.', 'Mastercard', 'Banking and Financial Services', '24,000']]\n"
     ]
    }
   ],
   "source": [
    "print (employees_by_country['United States'])"
   ]
  },
  {
   "attachments": {},
   "cell_type": "markdown",
   "metadata": {},
   "source": [
    "We used a for loop in order to create a dictionary with the countries as keys, the values are lists of all the information of the companies in that country. This for loop saves time for all lookups from now on. Now we can find all the information by country just with calling the key."
   ]
  },
  {
   "cell_type": "code",
   "execution_count": 23,
   "metadata": {},
   "outputs": [],
   "source": [
    "# Creating a set of all industries\n",
    "industries = set()\n",
    "for row in rows:\n",
    "    industries.add(row[2])"
   ]
  },
  {
   "cell_type": "code",
   "execution_count": 24,
   "metadata": {},
   "outputs": [
    {
     "data": {
      "text/plain": [
       "{'Aerospace & Defense',\n",
       " 'Automotive (Automotive and Suppliers)',\n",
       " 'Banking and Financial Services',\n",
       " 'Clothing, Shoes, Sports Equipment',\n",
       " 'Conglomerate',\n",
       " 'Construction, Oil & Gas Operations, Mining and Chemicals',\n",
       " 'Drugs & Biotechnology',\n",
       " 'Engineering, Manufacturing',\n",
       " 'Food, Soft Beverages, Alcohol & Tobacco',\n",
       " 'Health Care Equipment & Services',\n",
       " 'Healthcare & Social',\n",
       " 'IT, Internet, Software & Services',\n",
       " 'Media & Advertising',\n",
       " 'Packaged Goods',\n",
       " 'Retail and Wholesale',\n",
       " 'Semiconductors, Electronics, Electrical Engineering, Technology Hardware & Equipment',\n",
       " 'Telecommunications Services, Cable Supplier',\n",
       " 'Transportation and Logistics',\n",
       " 'Travel & Leisure      ',\n",
       " 'Utilities'}"
      ]
     },
     "execution_count": 24,
     "metadata": {},
     "output_type": "execute_result"
    }
   ],
   "source": [
    "industries"
   ]
  },
  {
   "attachments": {},
   "cell_type": "markdown",
   "metadata": {},
   "source": [
    "We created a set of all industries to make it easier to check up all the different types and that way save time and space."
   ]
  },
  {
   "cell_type": "code",
   "execution_count": 25,
   "metadata": {},
   "outputs": [],
   "source": [
    "sorted_company_names = []\n",
    "for row in rows:\n",
    "    sorted_company_names.append(row[1])\n",
    "sorted_company_names = sorted(sorted_company_names)    "
   ]
  },
  {
   "cell_type": "code",
   "execution_count": 26,
   "metadata": {},
   "outputs": [],
   "source": [
    "# Binary search on the rank with a list of lists\n",
    "def list_binsearch_lookup(sorted_names, target_name):\n",
    "    range_start = 0\n",
    "    range_end = len(sorted_names) - 1\n",
    "    while range_start < range_end:\n",
    "        range_middle = (range_end + range_start) // 2\n",
    "        name = sorted_names[range_middle]\n",
    "        if name == target_name:\n",
    "            for row in rows:\n",
    "                if row[1] == name:\n",
    "                    return row[0]\n",
    "        elif name < target_name:\n",
    "            range_start = range_middle + 1\n",
    "        else:\n",
    "            range_end = range_middle - 1\n",
    "    if sorted_names[range_start] != target_name:\n",
    "        return False\n",
    "    else:\n",
    "        for row in rows:\n",
    "            if row[1] == target_name:\n",
    "                return row[0]  "
   ]
  },
  {
   "cell_type": "code",
   "execution_count": 27,
   "metadata": {},
   "outputs": [
    {
     "data": {
      "text/plain": [
       "'5.'"
      ]
     },
     "execution_count": 27,
     "metadata": {},
     "output_type": "execute_result"
    }
   ],
   "source": [
    "list_binsearch_lookup(sorted_company_names, 'Apple')"
   ]
  },
  {
   "cell_type": "code",
   "execution_count": 28,
   "metadata": {},
   "outputs": [
    {
     "name": "stdout",
     "output_type": "stream",
     "text": [
      "['5.', 'Apple', 'Semiconductors, Electronics, Electrical Engineering, Technology Hardware & Equipment', 'United States', '154,000']\n"
     ]
    }
   ],
   "source": [
    "print (rows[4])"
   ]
  },
  {
   "cell_type": "code",
   "execution_count": 29,
   "metadata": {},
   "outputs": [],
   "source": [
    "\n",
    "employees_df = pd.DataFrame(rows, columns = header)"
   ]
  },
  {
   "cell_type": "code",
   "execution_count": 30,
   "metadata": {},
   "outputs": [
    {
     "data": {
      "text/html": [
       "<div>\n",
       "<style scoped>\n",
       "    .dataframe tbody tr th:only-of-type {\n",
       "        vertical-align: middle;\n",
       "    }\n",
       "\n",
       "    .dataframe tbody tr th {\n",
       "        vertical-align: top;\n",
       "    }\n",
       "\n",
       "    .dataframe thead th {\n",
       "        text-align: right;\n",
       "    }\n",
       "</style>\n",
       "<table border=\"1\" class=\"dataframe\">\n",
       "  <thead>\n",
       "    <tr style=\"text-align: right;\">\n",
       "      <th></th>\n",
       "      <th>RANK</th>\n",
       "      <th>NAME</th>\n",
       "      <th>INDUSTRIES</th>\n",
       "      <th>COUNTRY/TERRITORY</th>\n",
       "      <th>EMPLOYEES</th>\n",
       "    </tr>\n",
       "  </thead>\n",
       "  <tbody>\n",
       "    <tr>\n",
       "      <th>0</th>\n",
       "      <td>1.</td>\n",
       "      <td>Samsung Electronics</td>\n",
       "      <td>Semiconductors, Electronics, Electrical Engine...</td>\n",
       "      <td>South Kore</td>\n",
       "      <td>266,673</td>\n",
       "    </tr>\n",
       "    <tr>\n",
       "      <th>1</th>\n",
       "      <td>2.</td>\n",
       "      <td>Microsoft</td>\n",
       "      <td>IT, Internet, Software &amp; Services</td>\n",
       "      <td>United States</td>\n",
       "      <td>221,000</td>\n",
       "    </tr>\n",
       "    <tr>\n",
       "      <th>2</th>\n",
       "      <td>3.</td>\n",
       "      <td>IBM</td>\n",
       "      <td>Semiconductors, Electronics, Electrical Engine...</td>\n",
       "      <td>United States</td>\n",
       "      <td>250,000</td>\n",
       "    </tr>\n",
       "    <tr>\n",
       "      <th>3</th>\n",
       "      <td>4.</td>\n",
       "      <td>Alphabet</td>\n",
       "      <td>IT, Internet, Software &amp; Services</td>\n",
       "      <td>United States</td>\n",
       "      <td>156,500</td>\n",
       "    </tr>\n",
       "    <tr>\n",
       "      <th>4</th>\n",
       "      <td>5.</td>\n",
       "      <td>Apple</td>\n",
       "      <td>Semiconductors, Electronics, Electrical Engine...</td>\n",
       "      <td>United States</td>\n",
       "      <td>154,000</td>\n",
       "    </tr>\n",
       "  </tbody>\n",
       "</table>\n",
       "</div>"
      ],
      "text/plain": [
       "  RANK                 NAME  \\\n",
       "0   1.  Samsung Electronics   \n",
       "1   2.            Microsoft   \n",
       "2   3.                  IBM   \n",
       "3   4.             Alphabet   \n",
       "4   5.                Apple   \n",
       "\n",
       "                                          INDUSTRIES COUNTRY/TERRITORY  \\\n",
       "0  Semiconductors, Electronics, Electrical Engine...        South Kore   \n",
       "1                  IT, Internet, Software & Services     United States   \n",
       "2  Semiconductors, Electronics, Electrical Engine...     United States   \n",
       "3                  IT, Internet, Software & Services     United States   \n",
       "4  Semiconductors, Electronics, Electrical Engine...     United States   \n",
       "\n",
       "  EMPLOYEES  \n",
       "0   266,673  \n",
       "1   221,000  \n",
       "2   250,000  \n",
       "3   156,500  \n",
       "4   154,000  "
      ]
     },
     "execution_count": 30,
     "metadata": {},
     "output_type": "execute_result"
    }
   ],
   "source": [
    "employees_df.head()"
   ]
  },
  {
   "cell_type": "code",
   "execution_count": 31,
   "metadata": {},
   "outputs": [],
   "source": [
    "# Binary search on the rank with a pandas dataframe\n",
    "def dataframe_binsearch_lookup(df, sorted_names, target_name):\n",
    "    range_start = 0\n",
    "    range_end = len(sorted_names) - 1\n",
    "    while range_start < range_end:\n",
    "        range_middle = (range_end + range_start) // 2\n",
    "        name = sorted_names[range_middle]\n",
    "        if name == target_name:\n",
    "            return df['RANK'][df['NAME'] == target_name]\n",
    "        elif name < target_name:\n",
    "            range_start = range_middle + 1\n",
    "        else:\n",
    "            range_end = range_middle - 1\n",
    "    if sorted_names[range_start] != target_name:\n",
    "        return False\n",
    "    else:\n",
    "        return df['RANK'][df['NAME'] == target_name]  "
   ]
  },
  {
   "cell_type": "code",
   "execution_count": 32,
   "metadata": {},
   "outputs": [
    {
     "data": {
      "text/plain": [
       "2    3.\n",
       "Name: RANK, dtype: object"
      ]
     },
     "execution_count": 32,
     "metadata": {},
     "output_type": "execute_result"
    }
   ],
   "source": [
    "dataframe_binsearch_lookup(employees_df, sorted_company_names, 'IBM')"
   ]
  },
  {
   "cell_type": "code",
   "execution_count": 33,
   "metadata": {},
   "outputs": [],
   "source": [
    "import time"
   ]
  },
  {
   "cell_type": "code",
   "execution_count": 34,
   "metadata": {},
   "outputs": [
    {
     "name": "stdout",
     "output_type": "stream",
     "text": [
      "0.0 0.0\n"
     ]
    }
   ],
   "source": [
    "start=time.time()\n",
    "dataframe_binsearch_lookup(employees_df, sorted_company_names, 'IBM')\n",
    "end=time.time()\n",
    "dataframe_time=end-start\n",
    "\n",
    "start=time.time()\n",
    "list_binsearch_lookup(sorted_company_names, 'IBM')\n",
    "end=time.time()\n",
    "list_time=end-start\n",
    "print(dataframe_time, list_time)"
   ]
  },
  {
   "attachments": {},
   "cell_type": "markdown",
   "metadata": {},
   "source": [
    "After running the above codes and timing them, we find that looping through a list is faster than a data frame.(Even though the data frame function is shorter.)"
   ]
  },
  {
   "attachments": {},
   "cell_type": "markdown",
   "metadata": {},
   "source": [
    "In conclusion:\n",
    "Now the user could easily get information about employers in his country by just typing in the country name.\n",
    "He can also find out the rank for a company by specifying the one he wants to know about.\n",
    "There is a clear list of all industries."
   ]
  },
  {
   "attachments": {},
   "cell_type": "markdown",
   "metadata": {},
   "source": [
    "### All functions in a class:"
   ]
  },
  {
   "cell_type": "code",
   "execution_count": 35,
   "metadata": {},
   "outputs": [],
   "source": [
    "import csv\n",
    "import pandas as pd\n",
    "\n",
    "class Employee:\n",
    "\n",
    "    def __init__(self, employee_information):\n",
    "        self.employee_path = employee_information\n",
    "        self.rows = rows\n",
    "        self.header = header\n",
    "        self.employees_by_country = employees_by_country\n",
    "        self.industries = industries\n",
    "        self.sorted_company_names = sorted_company_names\n",
    "        self.employees_df = pd.DataFrame(self.rows, columns = self.header)\n",
    "\n",
    "    # A function that reads in a csv file as a list of lists\n",
    "    def read_csv(self):\n",
    "        with open (self.employee_path, encoding = 'UTF-8') as f:\n",
    "            reader = csv.reader(f)\n",
    "            rows = list(reader)\n",
    "        self.header = rows[0]\n",
    "        self.rows = rows[1:] \n",
    "\n",
    "    # Instantiating a dictionary with the countries as keys and the rest of the information as values. \n",
    "    def create_employees_by_country_dict(self):\n",
    "        for row in self.rows:\n",
    "            if row[3] in self.employees_by_country:\n",
    "                self.employees_by_country[row[3]] += [row[:3] + row[4:]]\n",
    "            else:\n",
    "                self.employees_by_country[row[3]] = [row[:3] + row[4:]] \n",
    "\n",
    "    # Creating a set of industries to enable customers to see the different types in a organized list.\n",
    "    def create_industries_set(self):\n",
    "        industries = set()\n",
    "        for row in rows:\n",
    "           industries.add(row[2])  \n",
    "\n",
    "    # Sorting the company names in a list\n",
    "    def sort_companies(self):\n",
    "        self.sorted_company_names = []\n",
    "        for row in self.rows:\n",
    "            self.sorted_company_names.append(row[1])\n",
    "        self.sorted_company_names = sorted(self.sorted_company_names) \n",
    "\n",
    "    # This function does a binary search on the companies and returns the rank of the company that was given.\n",
    "    def list_binsearch_lookup(self, target_name, sorted_names):\n",
    "        range_start = 0\n",
    "        range_end = len(sorted_names) - 1\n",
    "        while range_start < range_end:\n",
    "            range_middle = (range_end + range_start) // 2\n",
    "            name = sorted_names[range_middle]\n",
    "            if name == target_name:\n",
    "                for row in self.rows:\n",
    "                    if row[1] == name:\n",
    "                        return row[0]\n",
    "            elif name < target_name:\n",
    "                range_start = range_middle + 1\n",
    "            else:\n",
    "                range_end = range_middle - 1\n",
    "        if sorted_names[range_start] != target_name:\n",
    "            return False\n",
    "        else:\n",
    "            for row in self.rows:\n",
    "                if row[1] == target_name:\n",
    "                    return row[0]\n",
    "\n",
    "    # This function does the same as above (binary search on the rank) with a pandas dataframe.\n",
    "    def dataframe_binsearch_lookup(self, df, sorted_names, target_name):\n",
    "        range_start = 0\n",
    "        range_end = len(sorted_names) - 1\n",
    "        while range_start < range_end:\n",
    "            range_middle = (range_end + range_start) // 2\n",
    "            name = sorted_names[range_middle]\n",
    "            if name == target_name:\n",
    "                return df['RANK'][df['NAME'] == target_name]\n",
    "            elif name < target_name:\n",
    "                range_start = range_middle + 1\n",
    "            else:\n",
    "                range_end = range_middle - 1\n",
    "        if sorted_names[range_start] != target_name:\n",
    "            return False\n",
    "        else:\n",
    "            return df['RANK'][df['NAME'] == target_name] "
   ]
  }
 ],
 "metadata": {
  "kernelspec": {
   "display_name": "base",
   "language": "python",
   "name": "python3"
  },
  "language_info": {
   "codemirror_mode": {
    "name": "ipython",
    "version": 3
   },
   "file_extension": ".py",
   "mimetype": "text/x-python",
   "name": "python",
   "nbconvert_exporter": "python",
   "pygments_lexer": "ipython3",
   "version": "3.9.13"
  },
  "orig_nbformat": 4,
  "vscode": {
   "interpreter": {
    "hash": "585a938ec471c889bf0cce0aed741a99eaf47ca09c0fa8393793bc5bfe77ba11"
   }
  }
 },
 "nbformat": 4,
 "nbformat_minor": 2
}
