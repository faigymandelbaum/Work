{
 "cells": [
  {
   "cell_type": "code",
   "execution_count": 1,
   "metadata": {},
   "outputs": [],
   "source": [
    "# Finds a length of a number\n",
    "\n",
    "def num_len(number):\n",
    "    if number < 10:\n",
    "        return 1\n",
    "    else:\n",
    "        return 1 + num_len(number/10)\n",
    "    "
   ]
  },
  {
   "cell_type": "code",
   "execution_count": 2,
   "metadata": {},
   "outputs": [
    {
     "data": {
      "text/plain": [
       "7"
      ]
     },
     "execution_count": 2,
     "metadata": {},
     "output_type": "execute_result"
    }
   ],
   "source": [
    "num_len(1258878)"
   ]
  },
  {
   "cell_type": "code",
   "execution_count": 53,
   "metadata": {},
   "outputs": [],
   "source": [
    "# Find out if a number is prime\n",
    "\n",
    "def prime(number, x):\n",
    "    x -= 1\n",
    "    if number == 1:\n",
    "        return '{} is a prime number.'.format(number)\n",
    "    elif number == 2:\n",
    "        return \"{} is not a prime number.\".format(number)\n",
    "    else:     \n",
    "        if number%x == 0 and x != 1 or number < 3:\n",
    "            return  \"{} is not a prime number.\".format(number)\n",
    "        else:\n",
    "            if x == 2 :\n",
    "                return '{} is a prime number.'.format(number)\n",
    "            else:\n",
    "                return prime(number, x)   \n",
    "\n",
    "\n",
    "  \n",
    "   "
   ]
  },
  {
   "cell_type": "code",
   "execution_count": null,
   "metadata": {},
   "outputs": [],
   "source": [
    "def prime_2(n,counter=2):\n",
    "    if n==counter:\n",
    "        return str(n)+' is a prime number!'\n",
    "    else:\n",
    "        if n%counter == 0:\n",
    "            return str(n)+' is not a prime number!'\n",
    "        else:\n",
    "            return prime(n,counter+1)"
   ]
  },
  {
   "cell_type": "code",
   "execution_count": 44,
   "metadata": {},
   "outputs": [
    {
     "data": {
      "text/plain": [
       "'8 is not a prime number.'"
      ]
     },
     "execution_count": 44,
     "metadata": {},
     "output_type": "execute_result"
    }
   ],
   "source": [
    "prime(8,8)"
   ]
  },
  {
   "cell_type": "code",
   "execution_count": 52,
   "metadata": {},
   "outputs": [
    {
     "data": {
      "text/plain": [
       "'13 is a prime number.'"
      ]
     },
     "execution_count": 52,
     "metadata": {},
     "output_type": "execute_result"
    }
   ],
   "source": [
    "prime(13,13)"
   ]
  },
  {
   "cell_type": "code",
   "execution_count": null,
   "metadata": {},
   "outputs": [],
   "source": [
    "# Sums number in a list\n",
    "\n",
    "def sum_list(MyList, counter = 0):\n",
    "    counter+=0\n",
    "    for number in MyList:\n",
    "        for l in len(MyList):\n",
    "            if l == len(MyList) :\n",
    "                return 1\n",
    "        else:\n",
    "            return 1 + num_len(number)"
   ]
  }
 ],
 "metadata": {
  "kernelspec": {
   "display_name": "base",
   "language": "python",
   "name": "python3"
  },
  "language_info": {
   "codemirror_mode": {
    "name": "ipython",
    "version": 3
   },
   "file_extension": ".py",
   "mimetype": "text/x-python",
   "name": "python",
   "nbconvert_exporter": "python",
   "pygments_lexer": "ipython3",
   "version": "3.9.13 (main, Aug 25 2022, 23:51:50) [MSC v.1916 64 bit (AMD64)]"
  },
  "orig_nbformat": 4,
  "vscode": {
   "interpreter": {
    "hash": "585a938ec471c889bf0cce0aed741a99eaf47ca09c0fa8393793bc5bfe77ba11"
   }
  }
 },
 "nbformat": 4,
 "nbformat_minor": 2
}
