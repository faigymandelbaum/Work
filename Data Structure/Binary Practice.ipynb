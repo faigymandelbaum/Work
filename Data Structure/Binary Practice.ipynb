{
 "cells": [
  {
   "cell_type": "code",
   "execution_count": 2,
   "metadata": {},
   "outputs": [],
   "source": [
    "import csv\n",
    "import time"
   ]
  },
  {
   "cell_type": "code",
   "execution_count": 3,
   "metadata": {},
   "outputs": [],
   "source": [
    "var1= open('Credit card transactions - India - Simple.csv', encoding='utf8')\n",
    "var2=csv.reader(var1)\n",
    "credit_cards=list(var2)\n",
    "\n",
    "cities = []\n",
    "for row in credit_cards[1:]:\n",
    "    cities.append(row[1].split(',')[0])\n",
    "\n",
    "# target_list = []\n",
    "# for city in cities:\n",
    "#     if city not in target_list:\n",
    "#         target_list.append(city)       "
   ]
  },
  {
   "cell_type": "code",
   "execution_count": 4,
   "metadata": {},
   "outputs": [
    {
     "name": "stdout",
     "output_type": "stream",
     "text": [
      "0.3111538887023926\n",
      "0.003987789154052734\n"
     ]
    }
   ],
   "source": [
    "target_list=cities.copy()\n",
    "more_cities = [\"Indiana\", \"Ottowa\", \"Cleveland\", \"Baltimore\"]\n",
    "target_list.append(more_cities)\n",
    "\n",
    "target_list=set(cities)\n",
    "\n",
    "def linear_lookup(cities, target_list):\n",
    "    for city in cities:\n",
    "        if city == target_list:\n",
    "            return True\n",
    "    return None\n",
    "\n",
    "# binary search algorithm modified to return True or False\n",
    "def binsearch_lookup(sorted_cities, target_list):\n",
    "    range_start = 0                                   \n",
    "    range_end = len(sorted_cities) - 1                       \n",
    "    while range_start < range_end:\n",
    "        range_middle = (range_end + range_start) // 2  \n",
    "        city = sorted_cities[range_middle]\n",
    "        if city == target_list:                            \n",
    "            return True                        \n",
    "        elif city < target_list:                           \n",
    "            range_start = range_middle + 1             \n",
    "        else:                                          \n",
    "            range_end = range_middle - 1               \n",
    "    if sorted_cities[range_start] != target_list:                  \n",
    "        return False                                      \n",
    "    return True\n",
    "\n",
    "import time\n",
    "start=time.time()\n",
    "for city in target_list:\n",
    "    linear_lookup(cities, city)\n",
    "end=time.time()\n",
    "time_linear=end-start\n",
    "\n",
    "start=time.time()\n",
    "sorted_cities = sorted(cities)\n",
    "for city in target_list:\n",
    "    binsearch_lookup(sorted_cities, city)\n",
    "end=time.time()\n",
    "time_binsearch=end-start\n",
    "\n",
    "print(time_linear)\n",
    "print(time_binsearch)"
   ]
  },
  {
   "cell_type": "code",
   "execution_count": null,
   "metadata": {},
   "outputs": [],
   "source": []
  }
 ],
 "metadata": {
  "kernelspec": {
   "display_name": "base",
   "language": "python",
   "name": "python3"
  },
  "language_info": {
   "codemirror_mode": {
    "name": "ipython",
    "version": 3
   },
   "file_extension": ".py",
   "mimetype": "text/x-python",
   "name": "python",
   "nbconvert_exporter": "python",
   "pygments_lexer": "ipython3",
   "version": "3.9.13 (main, Aug 25 2022, 23:51:50) [MSC v.1916 64 bit (AMD64)]"
  },
  "orig_nbformat": 4,
  "vscode": {
   "interpreter": {
    "hash": "585a938ec471c889bf0cce0aed741a99eaf47ca09c0fa8393793bc5bfe77ba11"
   }
  }
 },
 "nbformat": 4,
 "nbformat_minor": 2
}
