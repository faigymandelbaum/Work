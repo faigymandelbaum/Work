{
 "cells": [
  {
   "attachments": {},
   "cell_type": "markdown",
   "metadata": {},
   "source": [
    "### Exception Handling:"
   ]
  },
  {
   "attachments": {},
   "cell_type": "markdown",
   "metadata": {},
   "source": [
    "You are opening a new store! Your store sells __________________. Your job is to write a program for your new store that does the following:\n",
    "1. Tells the customer what goods can be purchased in your store. Include at least 5 items.\n",
    "2. Asks the customer for input of which item they would like to purchase, and how many of that item.\n",
    "3. Responds to the customers request with the price of the item, asks the customer for confirmation of the item, adds the item and quantity to an order list, and asks the customer if they would like to order anything else.\n",
    "4. Raise an exception if the customer inputs an item that is not part of your list.\n",
    "5. Use at least two try/excepts in your program. \n",
    "6. At the end, print out an order list with the customer's total bill. Hint: You may want to include a try/except here - when you are multiplying the item cost by the quantity, if something goes wrong with the calculation you can raise an exception error to tell the customer that there is an issue with that item and they should speak to customer service :)\n",
    "\n",
    "\n",
    "These are the basics, but be as creative as you'd like!\n",
    "Hatzlacha and have fun!"
   ]
  },
  {
   "cell_type": "code",
   "execution_count": 5,
   "metadata": {},
   "outputs": [
    {
     "name": "stdout",
     "output_type": "stream",
     "text": [
      "Welcome to our \"Masquerade\"!!! Happy Purim!!! We sell Purim items!\n",
      "Here are some options, Have fun choosing your costume:\n",
      "Fire man\n",
      "Police man\n",
      "Kohen gadol\n",
      "Kallah\n",
      "Mask\n",
      "Baker\n",
      "The price for the Mask is: $15.\n",
      "You chose 5 Mask's. The total would be: $75\n",
      "We don't sell .\n",
      "We don't sell .\n",
      "We don't sell .\n",
      "We don't sell .\n",
      "We don't sell .\n",
      "We don't sell .\n",
      "We don't sell .\n",
      "We don't sell .\n",
      "We don't sell .\n",
      "We don't sell .\n",
      "We don't sell .\n",
      "We don't sell .\n",
      "We don't sell .\n",
      "We don't sell .\n",
      "We don't sell .\n",
      "We don't sell .\n",
      "We don't sell .\n",
      "Your bill is:\n",
      "   Item  Price  Quantity  Item Total\n",
      "0  Mask     15         5          75\n",
      "The total is: 75.\n"
     ]
    }
   ],
   "source": [
    "import pandas as pd\n",
    "\n",
    "\n",
    "costumes_dict = {'Fire man': 89, 'Police man': 105, 'Kohen gadol': 125, 'Kallah': 99, 'Mask': 15, 'Baker': 65}\n",
    "order_list = []\n",
    "print ('''Welcome to our \"Masquerade\"!!! Happy Purim!!! We sell Purim items!\n",
    "Here are some options, Have fun choosing your costume:''')\n",
    "for costume in costumes_dict.keys():\n",
    "    print (costume)\n",
    "def costume_order():    \n",
    "    order = input('What costume would you like to purchse?')\n",
    "    try:\n",
    "        print(f\"The price for the {order} is: ${costumes_dict[order]}.\")\n",
    "        quantity = input(f\"How many {order}'s would you like ?\")\n",
    "        try:\n",
    "            quantity = int(quantity)\n",
    "            if quantity == 1:\n",
    "                print (f'''You chose {quantity} {order}. The price is: ${costumes_dict[order]}''')\n",
    "            else:\n",
    "                print (f'''You chose {quantity} {order}'s. The total would be: ${costumes_dict[order]*quantity}''') \n",
    "\n",
    "            confirmation = input ('Are you sure you want to place this order? Please enter yes or no.')\n",
    "            \n",
    "            if confirmation.lower() == 'yes':\n",
    "                order_list.append([order, costumes_dict[order], quantity])\n",
    "\n",
    "            elif confirmation.lower() == 'no':\n",
    "                costume_order()\n",
    "\n",
    "            else:\n",
    "                print('Invalid answer!')            \n",
    "                \n",
    "\n",
    "        except ValueError:\n",
    "            print ('Invalid quantity!')\n",
    "\n",
    "    except KeyError:\n",
    "        print (f\"We don't sell {order}.\")   \n",
    "   \n",
    "    another_order = input('Would you like to purchase another item? Please enter yes or no.')\n",
    "\n",
    "    if another_order == 'yes':\n",
    "        costume_order()\n",
    "    elif another_order == 'no':\n",
    "        if len(order_list) < 1:\n",
    "            print (\"You are leaving our store without any purchases. Thank you and looking forward to seeing you again.\")\n",
    "        else:\n",
    "            print (\"Your bill is:\")\n",
    "            order_bill = pd.DataFrame(order_list, columns = ['Item', 'Price', 'Quantity'])\n",
    "            order_bill['Item Total'] = order_bill['Quantity'] * order_bill['Price']\n",
    "            print (order_bill)\n",
    "            total = order_bill['Item Total'].sum()\n",
    "            print (f\"The total is: {total}.\")\n",
    "    else:\n",
    "        costume_order()        \n",
    "        \n",
    "\n",
    "    \n",
    "costume_order()\n",
    "\n",
    "    \n",
    "\n"
   ]
  },
  {
   "cell_type": "code",
   "execution_count": null,
   "metadata": {},
   "outputs": [],
   "source": []
  },
  {
   "cell_type": "code",
   "execution_count": null,
   "metadata": {},
   "outputs": [],
   "source": []
  }
 ],
 "metadata": {
  "kernelspec": {
   "display_name": "base",
   "language": "python",
   "name": "python3"
  },
  "language_info": {
   "codemirror_mode": {
    "name": "ipython",
    "version": 3
   },
   "file_extension": ".py",
   "mimetype": "text/x-python",
   "name": "python",
   "nbconvert_exporter": "python",
   "pygments_lexer": "ipython3",
   "version": "3.9.13"
  },
  "orig_nbformat": 4,
  "vscode": {
   "interpreter": {
    "hash": "585a938ec471c889bf0cce0aed741a99eaf47ca09c0fa8393793bc5bfe77ba11"
   }
  }
 },
 "nbformat": 4,
 "nbformat_minor": 2
}
