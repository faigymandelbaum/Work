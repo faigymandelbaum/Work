{
 "cells": [
  {
   "attachments": {},
   "cell_type": "markdown",
   "metadata": {},
   "source": [
    "### Regex Practice"
   ]
  },
  {
   "cell_type": "code",
   "execution_count": 2,
   "metadata": {},
   "outputs": [],
   "source": [
    "#import the neccessary libary\n",
    "import re\n",
    "import pandas"
   ]
  },
  {
   "cell_type": "code",
   "execution_count": 1,
   "metadata": {},
   "outputs": [],
   "source": [
    "#1. Check whether the given strings contain 0xB0. Display the answer as a boolean result.\n",
    "ln1 = 'start address: 0xA0, func1 address: 0xC0'\n",
    "ln2 = 'end address: 0xFF, func2 address: 0xB0'"
   ]
  },
  {
   "cell_type": "code",
   "execution_count": 3,
   "metadata": {},
   "outputs": [
    {
     "name": "stdout",
     "output_type": "stream",
     "text": [
      "False True\n"
     ]
    }
   ],
   "source": [
    "a = bool(re.search('0xB0', ln1))\n",
    "b = bool(re.search('0xB0', ln2))\n",
    "print (a, b)"
   ]
  },
  {
   "cell_type": "code",
   "execution_count": 5,
   "metadata": {},
   "outputs": [],
   "source": [
    "#2. Replace all occurrences of 5 with five for the given string.\n",
    "replace_all_fives = 'They ate 5 apples and 5 oranges'"
   ]
  },
  {
   "cell_type": "code",
   "execution_count": 35,
   "metadata": {},
   "outputs": [
    {
     "data": {
      "text/plain": [
       "'They ate five apples and five oranges'"
      ]
     },
     "execution_count": 35,
     "metadata": {},
     "output_type": "execute_result"
    }
   ],
   "source": [
    "re.sub('5', 'five', replace_all_fives)  "
   ]
  },
  {
   "cell_type": "code",
   "execution_count": null,
   "metadata": {},
   "outputs": [],
   "source": [
    "#3. Replace only the first occurrence of 5 with five for the given string.\n",
    "replace_first_five = 'They ate 5 apples and 5 oranges'"
   ]
  },
  {
   "cell_type": "code",
   "execution_count": 33,
   "metadata": {},
   "outputs": [
    {
     "data": {
      "text/plain": [
       "'They ate five apples and 5 oranges'"
      ]
     },
     "execution_count": 33,
     "metadata": {},
     "output_type": "execute_result"
    }
   ],
   "source": [
    "re.sub('5', \"five\", replace_all_fives, 1)"
   ]
  },
  {
   "cell_type": "code",
   "execution_count": 16,
   "metadata": {},
   "outputs": [],
   "source": [
    "#4. For the given list, return a list of  all elements that contain the letter E or e.\n",
    "\n",
    "items = ['goal', 'NEW', 'user', 'sit', 'eat', 'dinner']"
   ]
  },
  {
   "cell_type": "code",
   "execution_count": 53,
   "metadata": {},
   "outputs": [
    {
     "name": "stdout",
     "output_type": "stream",
     "text": [
      "['NEW', 'user', 'eat', 'dinner']\n"
     ]
    }
   ],
   "source": [
    "pattern = '\\w*[Ee]+\\w+'\n",
    "b = []\n",
    "for item in items:\n",
    "    if re.findall(pattern, item):\n",
    "        b.append(item)\n",
    "print (b)"
   ]
  },
  {
   "cell_type": "code",
   "execution_count": 20,
   "metadata": {},
   "outputs": [],
   "source": [
    "#5. Check if the given strings start with be.\n",
    "line1 = 'be nice'\n",
    "line2 = '\"best!\"'\n",
    "line3 = 'better?'\n",
    "line4 = 'oh no\\nbear spotted'"
   ]
  },
  {
   "cell_type": "code",
   "execution_count": 23,
   "metadata": {},
   "outputs": [
    {
     "name": "stdout",
     "output_type": "stream",
     "text": [
      "True\n",
      "False\n",
      "True\n",
      "False\n"
     ]
    }
   ],
   "source": [
    "for line in [line1, line2, line3, line4]:\n",
    "    a = bool(re.search(r'^be', line))\n",
    "    print (a)"
   ]
  },
  {
   "cell_type": "code",
   "execution_count": 50,
   "metadata": {},
   "outputs": [],
   "source": [
    "#6. For the given input string, change only the whole word red to brown.\n",
    "change_word = 'bred red spread credible red.'\n"
   ]
  },
  {
   "cell_type": "code",
   "execution_count": 49,
   "metadata": {},
   "outputs": [
    {
     "name": "stdout",
     "output_type": "stream",
     "text": [
      "bred brown spread credible brown.\n"
     ]
    }
   ],
   "source": [
    "change_word = re.sub(r'\\bred\\b', 'brown', change_word)\n",
    "print (change_word)"
   ]
  },
  {
   "cell_type": "code",
   "execution_count": 55,
   "metadata": {},
   "outputs": [],
   "source": [
    "#7. For the given input list, filter all elements that contain 42 surrounded by more digits.\n",
    "words = ['hi42bye', 'nice1423', 'bad42', 'cool_42a', 'fake42', '_42_']"
   ]
  },
  {
   "cell_type": "code",
   "execution_count": 61,
   "metadata": {},
   "outputs": [
    {
     "name": "stdout",
     "output_type": "stream",
     "text": [
      "nice1423\n"
     ]
    }
   ],
   "source": [
    "pattern = r'\\d+42\\d+'\n",
    "for word in words:\n",
    "    if re.findall(pattern, word):\n",
    "        print (word)"
   ]
  },
  {
   "cell_type": "code",
   "execution_count": 66,
   "metadata": {},
   "outputs": [
    {
     "name": "stdout",
     "output_type": "stream",
     "text": [
      "['franky@google.com', 'sinatra123@yahoo.com']\n"
     ]
    }
   ],
   "source": [
    "#8. Write a regex so that the full email addresses are extracted. i.e.: mike@protonmail.com\n",
    "\n",
    "str = 'The advancements in biomarine studies franky@google.com with the investments necessary and Davos sinatra123@yahoo.com Then The New Yorker article on wind farms...'\n",
    "import re\n",
    "regex = r'[a-zA-Z0-9]+@[a-zA-Z0-9]+.com'\n",
    "full_email = re.findall(regex, str)\n",
    "\n",
    "print(full_email)"
   ]
  },
  {
   "cell_type": "code",
   "execution_count": 68,
   "metadata": {},
   "outputs": [
    {
     "name": "stdout",
     "output_type": "stream",
     "text": [
      "['franky@', 'sinatra123@']\n"
     ]
    }
   ],
   "source": [
    "#9. This time write a regex to get only the part of the email before the \"@\" sign and include the \"@\" sign. i.e: only mike@ part from mike@protonmail.com\n",
    "\n",
    "str = 'The advancements in biomarine studies franky@google.com, with the investments necessary and Davos sinatra123@yahoo.com Then The New Yorker article on wind farms...'\n",
    "\n",
    "regex = r'[a-zA-Z0-9]+@'\n",
    "email_before = re.findall(regex, str)\n",
    "\n",
    "print(email_before)"
   ]
  },
  {
   "cell_type": "code",
   "execution_count": 69,
   "metadata": {},
   "outputs": [
    {
     "name": "stdout",
     "output_type": "stream",
     "text": [
      "['empourpr', 'palmiers']\n"
     ]
    }
   ],
   "source": [
    "#10. Find the words with exactly 8 letters using regex.\n",
    "\n",
    "import re\n",
    "\n",
    "str ='''Au pays parfume que le soleil caresse,\n",
    "J'ai connu, sous un dais d'arbres tout empourpres\n",
    "Et de palmiers d'ou pleut sur les yeux la paresse,\n",
    "Une dame creole aux charmes ignores.'''\n",
    "\n",
    "regex = r'[a-zA-Z]{8}'\n",
    "letters8 = re.findall(regex, str)\n",
    "\n",
    "print(letters8)"
   ]
  },
  {
   "cell_type": "code",
   "execution_count": 70,
   "metadata": {},
   "outputs": [
    {
     "data": {
      "text/plain": [
       "['0527674254']"
      ]
     },
     "execution_count": 70,
     "metadata": {},
     "output_type": "execute_result"
    }
   ],
   "source": [
    "#11. Complete the sentence in the string. Use regex to find your phone number.\n",
    "\n",
    "string = 'My phone number is 0527674254'\n",
    "regex = r'\\d{10}'\n",
    "re.findall(regex, string)\n"
   ]
  },
  {
   "cell_type": "code",
   "execution_count": 84,
   "metadata": {},
   "outputs": [
    {
     "data": {
      "text/plain": [
       "['Faigy Mandelbaum']"
      ]
     },
     "execution_count": 84,
     "metadata": {},
     "output_type": "execute_result"
    }
   ],
   "source": [
    "#12. Fill in your name in the string. Extract your initials using regex.\n",
    "\n",
    "String = 'Faigy Mandelbaum'\n",
    "regex = r'\\w*\\s+\\w*'\n",
    "re.findall(regex, String)\n"
   ]
  },
  {
   "cell_type": "code",
   "execution_count": null,
   "metadata": {},
   "outputs": [],
   "source": [
    "# Please save your completed notebook to the drive with your name at the beginning. ex: SaraGross_regex_practice."
   ]
  },
  {
   "cell_type": "code",
   "execution_count": null,
   "metadata": {},
   "outputs": [],
   "source": []
  }
 ],
 "metadata": {
  "kernelspec": {
   "display_name": "base",
   "language": "python",
   "name": "python3"
  },
  "language_info": {
   "codemirror_mode": {
    "name": "ipython",
    "version": 3
   },
   "file_extension": ".py",
   "mimetype": "text/x-python",
   "name": "python",
   "nbconvert_exporter": "python",
   "pygments_lexer": "ipython3",
   "version": "3.9.13"
  },
  "orig_nbformat": 4,
  "vscode": {
   "interpreter": {
    "hash": "585a938ec471c889bf0cce0aed741a99eaf47ca09c0fa8393793bc5bfe77ba11"
   }
  }
 },
 "nbformat": 4,
 "nbformat_minor": 2
}
