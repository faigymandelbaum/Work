{
 "cells": [
  {
   "attachments": {},
   "cell_type": "markdown",
   "metadata": {},
   "source": [
    "### List Comprehension"
   ]
  },
  {
   "cell_type": "code",
   "execution_count": 9,
   "metadata": {},
   "outputs": [
    {
     "name": "stdout",
     "output_type": "stream",
     "text": [
      "['apple', 'banana', 'mango']\n"
     ]
    },
    {
     "data": {
      "text/plain": [
       "['apple', 'banana', 'mango']"
      ]
     },
     "execution_count": 9,
     "metadata": {},
     "output_type": "execute_result"
    }
   ],
   "source": [
    "#1. Substitute the for-loop with a list comprehension:\n",
    "\n",
    "fruits = [\"apple\", \"banana\", \"cherry\", \"kiwi\", \"mango\"]\n",
    "newlist = []\n",
    "\n",
    "for x in fruits:\n",
    "  if \"a\" in x:\n",
    "    newlist.append(x)\n",
    "\n",
    "print(newlist)\n",
    "\n",
    "new_fruits = [x for x in fruits if 'a' in x]\n",
    "new_fruits"
   ]
  },
  {
   "cell_type": "code",
   "execution_count": 10,
   "metadata": {},
   "outputs": [
    {
     "data": {
      "text/plain": [
       "['banana', 'mango']"
      ]
     },
     "execution_count": 10,
     "metadata": {},
     "output_type": "execute_result"
    }
   ],
   "source": [
    "#2. Modify your list comprehension to only accept items that are not \"apple\".\n",
    "\n",
    "new_fruits = [x for x in fruits if 'a' in x if x != 'apple']\n",
    "new_fruits"
   ]
  },
  {
   "cell_type": "code",
   "execution_count": 11,
   "metadata": {},
   "outputs": [
    {
     "data": {
      "text/plain": [
       "['apple', 'banana', 'cherry', 'kiwi', 'mango']"
      ]
     },
     "execution_count": 11,
     "metadata": {},
     "output_type": "execute_result"
    }
   ],
   "source": [
    "#3. Modify your list comprehension to exclude the \"if statement\".\n",
    "\n",
    "new_fruits = [x for x in fruits]\n",
    "new_fruits"
   ]
  },
  {
   "cell_type": "code",
   "execution_count": 15,
   "metadata": {},
   "outputs": [
    {
     "data": {
      "text/plain": [
       "[0, 2, 4, 6, 8, 10, 12, 14, 16, 18]"
      ]
     },
     "execution_count": 15,
     "metadata": {},
     "output_type": "execute_result"
    }
   ],
   "source": [
    "#5. Write a list comprehension where the list, \"number_list\" will be populated by the items in range from 0-19 if the item's value is divisible by 2.\n",
    "\n",
    "number_list = [num for num in range(0, 19) if num%2 == 0]\n",
    "number_list"
   ]
  },
  {
   "cell_type": "code",
   "execution_count": 17,
   "metadata": {},
   "outputs": [
    {
     "data": {
      "text/plain": [
       "['even', 'odd', 'even', 'odd', 'even', 'odd', 'even', 'odd', 'even']"
      ]
     },
     "execution_count": 17,
     "metadata": {},
     "output_type": "execute_result"
    }
   ],
   "source": [
    "#6. Write a list comprehension to check the 10 numbers from 0 to 9 (hint: use range). If the number is divisible by 2, then append \"even\" to the list. If not, append \"odd\".\n",
    "\n",
    "number_list = ['even' if x%2 == 0 else 'odd' for x in range(0, 9)]\n",
    "number_list"
   ]
  },
  {
   "cell_type": "code",
   "execution_count": 19,
   "metadata": {},
   "outputs": [
    {
     "data": {
      "text/plain": [
       "[0, 5, 10]"
      ]
     },
     "execution_count": 19,
     "metadata": {},
     "output_type": "execute_result"
    }
   ],
   "source": [
    "#7. Write a list comprehension to iterate over a list and take the elements that are less than 15.\n",
    "\n",
    "number_list = [num for num in range(0, 100, 5) if num < 15]\n",
    "number_list"
   ]
  },
  {
   "cell_type": "code",
   "execution_count": 37,
   "metadata": {},
   "outputs": [
    {
     "data": {
      "text/plain": [
       "['chana', 'chedva']"
      ]
     },
     "execution_count": 37,
     "metadata": {},
     "output_type": "execute_result"
    }
   ],
   "source": [
    "#8. Write a list comprehension to iterate over a list of names and take the names that start with a \"c\" and end with an \"a\".\n",
    "names = ['chana', 'yehudis', 'chedva', 'esti', 'chasi']\n",
    "import re\n",
    "my_names = [name for name in names if bool(re.findall(r'^c', name)) if bool(re.findall(r'a$', name))]\n",
    "my_names"
   ]
  },
  {
   "cell_type": "code",
   "execution_count": 42,
   "metadata": {},
   "outputs": [
    {
     "data": {
      "text/plain": [
       "[1, 2, 3, 4, 5, 2, 3, 2, 6]"
      ]
     },
     "execution_count": 42,
     "metadata": {},
     "output_type": "execute_result"
    }
   ],
   "source": [
    "#9. Write a nested list comprehension to that out each element from the nested lists so the desired output is: output_vals = [1,2,3,4,5,2,3,2,6]\n",
    "vals = [[1,2,3],[4,5,2],[3,2,6]]\n",
    "output_vals = [val for alist in vals for val in alist]\n",
    "output_vals"
   ]
  },
  {
   "cell_type": "code",
   "execution_count": null,
   "metadata": {},
   "outputs": [],
   "source": [
    "[x for i in range(2) for x in range(10) if i == x%2]"
   ]
  },
  {
   "cell_type": "code",
   "execution_count": 55,
   "metadata": {},
   "outputs": [
    {
     "data": {
      "text/plain": [
       "[(0, 'C'),\n",
       " (0, 'h'),\n",
       " (0, 'a'),\n",
       " (0, 'n'),\n",
       " (0, 'a'),\n",
       " (0, 'R'),\n",
       " (0, 'o'),\n",
       " (0, 'c'),\n",
       " (0, 'h'),\n",
       " (0, 'e'),\n",
       " (0, 'l'),\n",
       " (1, 'C'),\n",
       " (1, 'h'),\n",
       " (1, 'a'),\n",
       " (1, 'v'),\n",
       " (1, 'a'),\n",
       " (1, 'C'),\n",
       " (1, 'h'),\n",
       " (1, 'a'),\n",
       " (1, 'y'),\n",
       " (1, 'a'),\n",
       " (2, 'R'),\n",
       " (2, 'i'),\n",
       " (2, 'v'),\n",
       " (2, 'k'),\n",
       " (2, 'a'),\n",
       " (2, 'c'),\n",
       " (2, 'h'),\n",
       " (2, 'a'),\n",
       " (2, 'r'),\n",
       " (2, 'n'),\n",
       " (2, 'a')]"
      ]
     },
     "execution_count": 55,
     "metadata": {},
     "output_type": "execute_result"
    }
   ],
   "source": [
    "#10. Challenge: Write a nested list comprehension for the following scenario:\n",
    "# We have a list of lists of words and we want to get a list of all the letters of these words along with the index of the list they belong to but only for words with more than two characters.\n",
    "words = [['Chana', 'Rochel'], ['Chava', 'Chaya'], ['Rivka', 'charna', 'ya']]\n",
    "nested_words = [(pl, letter) for pl, alist  in enumerate(words) for word in alist for letter in word if len(word) > 2]\n",
    "nested_words"
   ]
  },
  {
   "cell_type": "code",
   "execution_count": null,
   "metadata": {},
   "outputs": [],
   "source": []
  }
 ],
 "metadata": {
  "kernelspec": {
   "display_name": "base",
   "language": "python",
   "name": "python3"
  },
  "language_info": {
   "name": "python",
   "version": "3.9.13"
  },
  "orig_nbformat": 4,
  "vscode": {
   "interpreter": {
    "hash": "ad2bdc8ecc057115af97d19610ffacc2b4e99fae6737bb82f5d7fb13d2f2c186"
   }
  }
 },
 "nbformat": 4,
 "nbformat_minor": 2
}
