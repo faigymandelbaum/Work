{
 "cells": [
  {
   "attachments": {},
   "cell_type": "markdown",
   "metadata": {},
   "source": [
    "### Lambda Functions 2"
   ]
  },
  {
   "attachments": {},
   "cell_type": "markdown",
   "metadata": {},
   "source": [
    "Instructions: Work through the following questions. The first one has been done for you. You can use the slides and deepnote examples as a guide. \n",
    "Hatzlacha! When you are finished, please push your work to git and add ruchifeldman and edonnenbaum as a  collaborator."
   ]
  },
  {
   "cell_type": "code",
   "execution_count": null,
   "metadata": {},
   "outputs": [],
   "source": [
    "#1. Define a lambda function that prints \"Hello my name is _________ (fill in your name here)\" and assign it to the variable \"my_name\".\n",
    "my_name = lambda : print('Hello my name is Ruchi')\n",
    "my_name()"
   ]
  },
  {
   "cell_type": "code",
   "execution_count": 5,
   "metadata": {},
   "outputs": [
    {
     "name": "stdout",
     "output_type": "stream",
     "text": [
      "Hello my name is Faigy!\n"
     ]
    }
   ],
   "source": [
    "#2. Define a lambda function that prints \"Hello my name is _________ (fill in your name here)\" and assign it to the variable \"my_name2\". In this example your lambda function should accept the argument named \"name\".\n",
    "name = 'Faigy'\n",
    "my_name2 = lambda name: print (f'Hello my name is {name}!')"
   ]
  },
  {
   "cell_type": "code",
   "execution_count": null,
   "metadata": {},
   "outputs": [],
   "source": [
    "#3. Rewrite the following function using a lambda: \n",
    "\n",
    "def add_one(x):\n",
    "    return x + 1\n",
    "\n",
    "lambda x: x+1"
   ]
  },
  {
   "cell_type": "code",
   "execution_count": 7,
   "metadata": {},
   "outputs": [
    {
     "data": {
      "text/plain": [
       "0.2"
      ]
     },
     "execution_count": 7,
     "metadata": {},
     "output_type": "execute_result"
    }
   ],
   "source": [
    "#4. Define the following lambda function: \n",
    "# Save a variable \"a\"  and an expression as a/10. \n",
    "# If variable \"a\" is less than 20, the code will divide it by 10. \n",
    "# Otherwise, it will print the variable value. \n",
    "# Call the function, setting the parameter a = 2 to call the function.\n",
    "func = lambda a: a/10 if a < 20 else a\n",
    "func(2)"
   ]
  },
  {
   "cell_type": "code",
   "execution_count": 8,
   "metadata": {},
   "outputs": [
    {
     "data": {
      "text/plain": [
       "'even'"
      ]
     },
     "execution_count": 8,
     "metadata": {},
     "output_type": "execute_result"
    }
   ],
   "source": [
    "#5. Use a lambda function to determine whether a specified integer is odd or even. Hint: use \"number\" as an argument in your function.\n",
    "# Your output should print the inputted number and whether it is odd or even.\n",
    "# To start you off: \n",
    "number = int(input('Please provide any number: '))\n",
    "odd_even = lambda number: 'even' if number%2 == 0 else 'odd'"
   ]
  },
  {
   "cell_type": "code",
   "execution_count": 9,
   "metadata": {},
   "outputs": [
    {
     "data": {
      "text/plain": [
       "<function __main__.<lambda>(num)>"
      ]
     },
     "execution_count": 9,
     "metadata": {},
     "output_type": "execute_result"
    }
   ],
   "source": [
    "#6. Write your own function. Then convert it to a lambda.\n",
    "def more_than_100(num):\n",
    "    if num > 100:\n",
    "        return f\"{num} more than 100.\"\n",
    "    else: \n",
    "        return f\"{num} less than 100.\" \n",
    "\n",
    "lambda num: f\"{num} more than 100.\" if num > 100 else f\"{num} less than 100.\"        \n",
    "    \n"
   ]
  },
  {
   "cell_type": "code",
   "execution_count": null,
   "metadata": {},
   "outputs": [],
   "source": [
    "#7. # Create a lambda function with if, elif & else:\n",
    "# If the given value is less than 10 then Multiplies it by 2\n",
    "# else if it's between 10 to 20 the multiplies it by 3\n",
    "# else returns the unmodified same value\n",
    "lambda num: num*2 if num < 10  else(num*3 if num<20 else num) "
   ]
  },
  {
   "cell_type": "code",
   "execution_count": 11,
   "metadata": {},
   "outputs": [
    {
     "data": {
      "text/plain": [
       "True"
      ]
     },
     "execution_count": 11,
     "metadata": {},
     "output_type": "execute_result"
    }
   ],
   "source": [
    "#8. Create a lambda function to check if a given value is between 11 to 22.\n",
    "#Return True or False\n",
    "lambda value: True if value > 11 and value <= 22 else False\n"
   ]
  },
  {
   "cell_type": "code",
   "execution_count": null,
   "metadata": {},
   "outputs": [],
   "source": []
  }
 ],
 "metadata": {
  "kernelspec": {
   "display_name": "Python 3",
   "language": "python",
   "name": "python3"
  },
  "language_info": {
   "codemirror_mode": {
    "name": "ipython",
    "version": 3
   },
   "file_extension": ".py",
   "mimetype": "text/x-python",
   "name": "python",
   "nbconvert_exporter": "python",
   "pygments_lexer": "ipython3",
   "version": "3.10.9"
  },
  "orig_nbformat": 4,
  "vscode": {
   "interpreter": {
    "hash": "1d208fc92f63bff2dd80c97ffe5a57d134e87b05d2dbf0af794face5bab8487c"
   }
  }
 },
 "nbformat": 4,
 "nbformat_minor": 2
}
